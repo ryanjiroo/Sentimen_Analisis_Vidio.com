{
  "nbformat": 4,
  "nbformat_minor": 0,
  "metadata": {
    "colab": {
      "provenance": []
    },
    "kernelspec": {
      "name": "python3",
      "display_name": "Python 3"
    },
    "language_info": {
      "name": "python"
    }
  },
  "cells": [
    {
      "cell_type": "code",
      "execution_count": 1,
      "metadata": {
        "id": "o2tCM_pJyx8S"
      },
      "outputs": [],
      "source": [
        "import numpy as np\n",
        "import joblib\n",
        "from tensorflow.keras.models import load_model\n",
        "from tensorflow.keras.preprocessing.sequence import pad_sequences"
      ]
    },
    {
      "cell_type": "code",
      "source": [
        "model = load_model(\"lstm.keras\")\n",
        "tokenizer = joblib.load(\"tokenizer_lstm.pkl\")\n",
        "params = joblib.load(\"lstm_params.pkl\")"
      ],
      "metadata": {
        "colab": {
          "base_uri": "https://localhost:8080/"
        },
        "id": "45PDwLNzy6sE",
        "outputId": "3fd95ca8-e6da-47fb-a4bc-d952cb58ffa3"
      },
      "execution_count": 2,
      "outputs": [
        {
          "output_type": "stream",
          "name": "stderr",
          "text": [
            "/usr/local/lib/python3.11/dist-packages/keras/src/saving/saving_lib.py:757: UserWarning: Skipping variable loading for optimizer 'adam', because it has 24 variables whereas the saved optimizer has 2 variables. \n",
            "  saveable.load_own_variables(weights_store.get(inner_path))\n"
          ]
        }
      ]
    },
    {
      "cell_type": "code",
      "source": [
        "max_len = params[\"max_len\"]"
      ],
      "metadata": {
        "id": "AhAQ8a2K1gdb"
      },
      "execution_count": 3,
      "outputs": []
    },
    {
      "cell_type": "code",
      "source": [
        "def predict_sentiment(text):\n",
        "    seq = tokenizer.texts_to_sequences([text])\n",
        "    padded = pad_sequences(seq, maxlen=max_len)\n",
        "    pred = model.predict(padded)\n",
        "    label = np.argmax(pred, axis=1)[0]\n",
        "    labels = ['negatif', 'netral', 'positif']\n",
        "    return labels[label]"
      ],
      "metadata": {
        "id": "DMxmuUVG1k3R"
      },
      "execution_count": 4,
      "outputs": []
    },
    {
      "cell_type": "code",
      "source": [
        "text_sample = \"Langganan paket karena bagus\"\n",
        "sentiment = predict_sentiment(text_sample)\n",
        "print(f\"Teks: {text_sample}\\nPrediksi Sentimen: {sentiment}\")"
      ],
      "metadata": {
        "colab": {
          "base_uri": "https://localhost:8080/"
        },
        "id": "4XAFsKaq1n7h",
        "outputId": "5d4988e3-9a96-4f8d-b97a-5978efb1d5da"
      },
      "execution_count": 18,
      "outputs": [
        {
          "output_type": "stream",
          "name": "stdout",
          "text": [
            "\u001b[1m1/1\u001b[0m \u001b[32m━━━━━━━━━━━━━━━━━━━━\u001b[0m\u001b[37m\u001b[0m \u001b[1m0s\u001b[0m 54ms/step\n",
            "Teks: Langganan paket karena bagus\n",
            "Prediksi Sentimen: positif\n"
          ]
        }
      ]
    },
    {
      "cell_type": "code",
      "source": [
        "text_sample = \"Aplikasinya sering error dan buffering terus, padahal koneksi internet saya bagus.\"\n",
        "sentiment = predict_sentiment(text_sample)\n",
        "print(f\"Teks: {text_sample}\\nPrediksi Sentimen: {sentiment}\")"
      ],
      "metadata": {
        "colab": {
          "base_uri": "https://localhost:8080/"
        },
        "id": "F3Tvqiae2GVH",
        "outputId": "ad9e4ecc-bc22-46fd-fc64-4ca0dbfa02b3"
      },
      "execution_count": 10,
      "outputs": [
        {
          "output_type": "stream",
          "name": "stdout",
          "text": [
            "\u001b[1m1/1\u001b[0m \u001b[32m━━━━━━━━━━━━━━━━━━━━\u001b[0m\u001b[37m\u001b[0m \u001b[1m0s\u001b[0m 55ms/step\n",
            "Teks: Aplikasinya sering error dan buffering terus, padahal koneksi internet saya bagus.\n",
            "Prediksi Sentimen: negatif\n"
          ]
        }
      ]
    },
    {
      "cell_type": "code",
      "source": [
        "text_sample = \"Bagus untuk nonton film sayang harus bayar\"\n",
        "sentiment = predict_sentiment(text_sample)\n",
        "print(f\"Teks: {text_sample}\\nPrediksi Sentimen: {sentiment}\")"
      ],
      "metadata": {
        "colab": {
          "base_uri": "https://localhost:8080/"
        },
        "id": "XNZRHGQI2pRu",
        "outputId": "6bdd24df-ae98-4205-a1da-0648032778b4"
      },
      "execution_count": 20,
      "outputs": [
        {
          "output_type": "stream",
          "name": "stdout",
          "text": [
            "\u001b[1m1/1\u001b[0m \u001b[32m━━━━━━━━━━━━━━━━━━━━\u001b[0m\u001b[37m\u001b[0m \u001b[1m0s\u001b[0m 53ms/step\n",
            "Teks: Bagus untuk nonton film sayang harus bayar\n",
            "Prediksi Sentimen: netral\n"
          ]
        }
      ]
    }
  ]
}